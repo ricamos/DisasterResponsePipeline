{
 "cells": [
  {
   "cell_type": "markdown",
   "metadata": {},
   "source": [
    "# ML Pipeline Preparation\n",
    "Follow the instructions below to help you create your ML pipeline.\n",
    "### 1. Import libraries and load data from database.\n",
    "- Import Python libraries\n",
    "- Load dataset from database with [`read_sql_table`](https://pandas.pydata.org/pandas-docs/stable/generated/pandas.read_sql_table.html)\n",
    "- Define feature and target variables X and Y"
   ]
  },
  {
   "cell_type": "code",
   "execution_count": 1,
   "metadata": {},
   "outputs": [
    {
     "name": "stdout",
     "output_type": "stream",
     "text": [
      "[nltk_data] Downloading package punkt to /root/nltk_data...\n",
      "[nltk_data]   Unzipping tokenizers/punkt.zip.\n",
      "[nltk_data] Downloading package stopwords to /root/nltk_data...\n",
      "[nltk_data]   Unzipping corpora/stopwords.zip.\n",
      "[nltk_data] Downloading package wordnet to /root/nltk_data...\n",
      "[nltk_data]   Unzipping corpora/wordnet.zip.\n"
     ]
    }
   ],
   "source": [
    "# import libraries\n",
    "\n",
    "# Load data\n",
    "import pandas as pd\n",
    "import numpy as np\n",
    "from sqlalchemy import create_engine\n",
    "\n",
    "# NLP pipelines\n",
    "import nltk\n",
    "import re\n",
    "\n",
    "from nltk.tokenize import word_tokenize\n",
    "from nltk.corpus import stopwords\n",
    "from nltk.stem.wordnet import WordNetLemmatizer\n",
    "\n",
    "nltk.download('punkt')\n",
    "nltk.download('stopwords')\n",
    "nltk.download('wordnet')\n",
    "\n",
    "\n",
    "# ML Pipeline\n",
    "from sklearn.feature_extraction.text import CountVectorizer, TfidfTransformer\n",
    "from sklearn.ensemble import RandomForestClassifier\n",
    "from sklearn.pipeline import Pipeline\n",
    "from sklearn.multioutput import MultiOutputClassifier\n",
    "from sklearn.model_selection import train_test_split\n",
    "\n",
    "#sklearn classifiers\n",
    "from sklearn.linear_model import LogisticRegression\n",
    "from sklearn.tree import DecisionTreeClassifier\n",
    "from sklearn.neighbors import KNeighborsClassifier\n",
    "from sklearn.ensemble import RandomForestClassifier\n",
    "from sklearn.discriminant_analysis import LinearDiscriminantAnalysis\n",
    "from sklearn.naive_bayes import GaussianNB\n",
    "from sklearn.svm import SVC\n",
    "from sklearn.dummy import DummyClassifier\n",
    "from sklearn.ensemble import BaggingClassifier\n",
    "from sklearn.ensemble import AdaBoostClassifier\n",
    "from sklearn.ensemble import VotingClassifier\n",
    "from sklearn.ensemble import AdaBoostClassifier\n",
    "\n",
    "# 5 test your model\n",
    "from sklearn.metrics import classification_report\n",
    "\n",
    "# 6 Improve your model\n",
    "from sklearn.model_selection import GridSearchCV\n",
    "\n",
    "# 9. Export your model as a pickle file\n",
    "from datetime import date, datetime\n",
    "from pytz import timezone\n",
    "import pickle\n",
    "\n",
    "from workspace_utils import active_session\n",
    "import sys"
   ]
  },
  {
   "cell_type": "code",
   "execution_count": 2,
   "metadata": {},
   "outputs": [],
   "source": [
    "# load data from database\n",
    "def load_data(db):\n",
    "    \"\"\"\n",
    "    INPUT:\n",
    "        A database file name like: 'disasterResponse.db'\n",
    "    \n",
    "    OUTPUT:\n",
    "        \n",
    "        Feature and target variables X and Y\n",
    "        \n",
    "        X = df.message.values\n",
    "        Y =  df[df.columns[4:]].values\n",
    "        \n",
    "    \"\"\"\n",
    "    engine = create_engine(f'sqlite:///{db}')\n",
    "    df = pd.read_sql('SELECT * FROM disasterResponse', engine)\n",
    "    X = df.message.values # Feature\n",
    "    Y =  df[df.columns[4:]].values # Target\n",
    "    \n",
    "    return X, Y, df"
   ]
  },
  {
   "cell_type": "code",
   "execution_count": 3,
   "metadata": {},
   "outputs": [],
   "source": [
    "X, Y, df = load_data(\"disasterResponse_18_09_2019_05_01_50.db\")"
   ]
  },
  {
   "cell_type": "code",
   "execution_count": 4,
   "metadata": {},
   "outputs": [
    {
     "data": {
      "text/plain": [
       "array(['Is the Hurricane over or is it not over',\n",
       "       'UN reports Leogane 80-90 destroyed. Only Hospital St. Croix functioning. Needs supplies desperately.',\n",
       "       'Storm at sacred heart of jesus',\n",
       "       'Please, we need tents and water. We are in Silo, Thank you!',\n",
       "       'I am in Croix-des-Bouquets. We have health issues. They ( workers ) are in Santo 15. ( an area in Croix-des-Bouquets )'], dtype=object)"
      ]
     },
     "execution_count": 4,
     "metadata": {},
     "output_type": "execute_result"
    }
   ],
   "source": [
    "X[:5]"
   ]
  },
  {
   "cell_type": "code",
   "execution_count": 5,
   "metadata": {},
   "outputs": [
    {
     "data": {
      "text/plain": [
       "array([[0, 0, 1, 0, 0, 0, 0, 0, 0, 0, 0, 0, 0, 0, 0, 0, 1, 0, 0, 0, 0, 0,\n",
       "        0, 0, 0, 0, 1, 0, 1, 0, 0, 0, 0, 0],\n",
       "       [1, 0, 1, 0, 1, 0, 0, 0, 0, 0, 0, 0, 0, 0, 0, 0, 1, 1, 0, 1, 0, 0,\n",
       "        1, 0, 0, 0, 0, 0, 0, 0, 0, 0, 0, 0],\n",
       "       [0, 0, 0, 0, 0, 0, 0, 0, 0, 0, 0, 0, 0, 0, 0, 0, 0, 0, 0, 0, 0, 0,\n",
       "        0, 0, 0, 0, 1, 0, 1, 0, 0, 0, 0, 0]])"
      ]
     },
     "execution_count": 5,
     "metadata": {},
     "output_type": "execute_result"
    }
   ],
   "source": [
    "Y[:3]"
   ]
  },
  {
   "cell_type": "code",
   "execution_count": 6,
   "metadata": {},
   "outputs": [
    {
     "data": {
      "text/plain": [
       "(14785, 38)"
      ]
     },
     "execution_count": 6,
     "metadata": {},
     "output_type": "execute_result"
    }
   ],
   "source": [
    "df.shape"
   ]
  },
  {
   "cell_type": "markdown",
   "metadata": {},
   "source": [
    "### 2. Write a tokenization function to process your text data"
   ]
  },
  {
   "cell_type": "code",
   "execution_count": 7,
   "metadata": {},
   "outputs": [],
   "source": [
    "def tokenize(text):\n",
    "    # Normalize \n",
    "    text = text.lower().strip() # Tudo minusculo \n",
    "    text = re.sub(r\"[^a-zA-Z0-9]\", \" \", text)\n",
    "\n",
    "    # Tokenize text \n",
    "    words = word_tokenize(text) # Separa as sentenças por palavras\n",
    "\n",
    "    # Testar com e sem stop words\n",
    "    # Remove stop words\n",
    "    words = [w for w in words if w not in stopwords.words(\"english\")] # Remove palavras padrão\n",
    "\n",
    "    # lemmatizer root words\n",
    "    lemmatizer = WordNetLemmatizer()\n",
    "\n",
    "    clean_tokens = []\n",
    "    for tok in words:\n",
    "        clean_tok = lemmatizer.lemmatize(tok).lower().strip() # Root words\n",
    "        clean_tokens.append(clean_tok)\n",
    "        \n",
    "    return clean_tokens\n"
   ]
  },
  {
   "cell_type": "code",
   "execution_count": 8,
   "metadata": {},
   "outputs": [
    {
     "name": "stdout",
     "output_type": "stream",
     "text": [
      "['please', 'need', 'tent', 'water', 'silo', 'thank']\n"
     ]
    }
   ],
   "source": [
    "teste = tokenize(X[3])\n",
    "print(teste)"
   ]
  },
  {
   "cell_type": "markdown",
   "metadata": {},
   "source": [
    "### 3. Build a machine learning pipeline\n",
    "This machine pipeline should take in the `message` column as input and output classification results on the other 36 categories in the dataset. You may find the [MultiOutputClassifier](http://scikit-learn.org/stable/modules/generated/sklearn.multioutput.MultiOutputClassifier.html) helpful for predicting multiple target variables."
   ]
  },
  {
   "cell_type": "code",
   "execution_count": 9,
   "metadata": {},
   "outputs": [],
   "source": [
    "# https://stackoverflow.com/questions/46770088/multioutput-classifier-learning-5-target-variables"
   ]
  },
  {
   "cell_type": "code",
   "execution_count": 10,
   "metadata": {},
   "outputs": [],
   "source": [
    "lm  = RandomForestClassifier() # 5 min\n",
    "pipeline = Pipeline(\n",
    "    [(\"vect\", CountVectorizer(tokenizer=tokenize)),\n",
    "    ('tfidf', TfidfTransformer()),\n",
    "    (\"clf\", MultiOutputClassifier(lm)),\n",
    "    ])"
   ]
  },
  {
   "cell_type": "markdown",
   "metadata": {},
   "source": [
    "### 4. Train pipeline\n",
    "- Split data into train and test sets\n",
    "- Train pipeline"
   ]
  },
  {
   "cell_type": "code",
   "execution_count": 11,
   "metadata": {},
   "outputs": [],
   "source": [
    "def what_time():\n",
    "    \"\"\"\n",
    "    Return the time from \"America/Sao_Paulo\"\n",
    "    \n",
    "    \"\"\"\n",
    "    time_now =  datetime.now(timezone(\"America/Sao_Paulo\")).strftime(\"%H:%M:%S\")\n",
    "    \n",
    "    return time_now"
   ]
  },
  {
   "cell_type": "code",
   "execution_count": 12,
   "metadata": {},
   "outputs": [],
   "source": [
    "# perform train test split\n",
    "X_train, X_test, y_train, y_test = train_test_split(X, Y, test_size=.33, random_state=42)"
   ]
  },
  {
   "cell_type": "code",
   "execution_count": 13,
   "metadata": {},
   "outputs": [],
   "source": [
    "# from sklearn.model_selection import StratifiedShuffleSplit\n",
    "\n",
    "# sss = StratifiedShuffleSplit(n_splits=5, test_size=0.5, random_state=42)\n",
    "\n",
    "# for train_index, test_index in sss.split(X, Y):\n",
    "#     print(\"TRAIN:\", train_index, \"TEST:\", test_index)\n",
    "# #    X_train, X_test = X[train_index], X[test_index]\n",
    "# #    y_train, y_test = y[train_index], y[test_index]"
   ]
  },
  {
   "cell_type": "code",
   "execution_count": 14,
   "metadata": {},
   "outputs": [
    {
     "data": {
      "text/plain": [
       "'19:55:37'"
      ]
     },
     "execution_count": 14,
     "metadata": {},
     "output_type": "execute_result"
    }
   ],
   "source": [
    "what_time()"
   ]
  },
  {
   "cell_type": "code",
   "execution_count": 15,
   "metadata": {
    "scrolled": true
   },
   "outputs": [
    {
     "data": {
      "text/plain": [
       "Pipeline(memory=None,\n",
       "     steps=[('vect', CountVectorizer(analyzer='word', binary=False, decode_error='strict',\n",
       "        dtype=<class 'numpy.int64'>, encoding='utf-8', input='content',\n",
       "        lowercase=True, max_df=1.0, max_features=None, min_df=1,\n",
       "        ngram_range=(1, 1), preprocessor=None, stop_words=None,\n",
       "        strip...oob_score=False, random_state=None, verbose=0,\n",
       "            warm_start=False),\n",
       "           n_jobs=1))])"
      ]
     },
     "execution_count": 15,
     "metadata": {},
     "output_type": "execute_result"
    }
   ],
   "source": [
    "# train classifier\n",
    "pipeline.fit(X_train, y_train)"
   ]
  },
  {
   "cell_type": "code",
   "execution_count": 16,
   "metadata": {},
   "outputs": [],
   "source": [
    "# predict on test data\n",
    "y_pred = pipeline.predict(X_test)"
   ]
  },
  {
   "cell_type": "code",
   "execution_count": 17,
   "metadata": {},
   "outputs": [
    {
     "data": {
      "text/plain": [
       "'19:57:19'"
      ]
     },
     "execution_count": 17,
     "metadata": {},
     "output_type": "execute_result"
    }
   ],
   "source": [
    "what_time()"
   ]
  },
  {
   "cell_type": "markdown",
   "metadata": {},
   "source": [
    "### 5. Test your model\n",
    "Report the f1 score, precision and recall for each output category of the dataset. You can do this by iterating through the columns and calling sklearn's `classification_report` on each."
   ]
  },
  {
   "cell_type": "code",
   "execution_count": 18,
   "metadata": {},
   "outputs": [],
   "source": [
    "import warnings\n",
    "\n",
    "def fxn():\n",
    "    warnings.warn(\"UndefinedMetricWarning\", DeprecationWarning)"
   ]
  },
  {
   "cell_type": "code",
   "execution_count": 19,
   "metadata": {},
   "outputs": [],
   "source": [
    "# display results\n",
    "# https://pt.stackoverflow.com/questions/309420/classification-report-e-confusion-matrix-do-sklearn-os-valores-n%C3%A3o-batem\n",
    "def display_results(y_test, y_pred, target_names):\n",
    "    \"\"\"\n",
    "    INPUT:\n",
    "        y_teste = Target test\n",
    "        y_pred = Prediction target\n",
    "        target_names = Columns names of targets.\n",
    "    \n",
    "    OUTPUT:\n",
    "        Print: f1 score, precision and recall \n",
    "    \"\"\"\n",
    "    with warnings.catch_warnings():\n",
    "        warnings.simplefilter(\"ignore\")\n",
    "        fxn()\n",
    "        \n",
    "        for i in range(len(target_names)):\n",
    "            print(target_names[i])\n",
    "            print(classification_report(y_test[:, i], y_pred[:, i]))"
   ]
  },
  {
   "cell_type": "code",
   "execution_count": 20,
   "metadata": {
    "scrolled": false
   },
   "outputs": [
    {
     "name": "stdout",
     "output_type": "stream",
     "text": [
      "request\n",
      "             precision    recall  f1-score   support\n",
      "\n",
      "          0       0.89      0.93      0.91      3394\n",
      "          1       0.82      0.73      0.77      1486\n",
      "\n",
      "avg / total       0.86      0.87      0.86      4880\n",
      "\n",
      "offer\n",
      "             precision    recall  f1-score   support\n",
      "\n",
      "          0       0.99      1.00      1.00      4838\n",
      "          1       0.00      0.00      0.00        42\n",
      "\n",
      "avg / total       0.98      0.99      0.99      4880\n",
      "\n",
      "aid_related\n",
      "             precision    recall  f1-score   support\n",
      "\n",
      "          0       0.66      0.55      0.60      1327\n",
      "          1       0.84      0.90      0.87      3553\n",
      "\n",
      "avg / total       0.79      0.80      0.80      4880\n",
      "\n",
      "medical_help\n",
      "             precision    recall  f1-score   support\n",
      "\n",
      "          0       0.91      0.97      0.94      4184\n",
      "          1       0.72      0.40      0.51       696\n",
      "\n",
      "avg / total       0.88      0.89      0.88      4880\n",
      "\n",
      "medical_products\n",
      "             precision    recall  f1-score   support\n",
      "\n",
      "          0       0.92      0.99      0.96      4434\n",
      "          1       0.76      0.17      0.28       446\n",
      "\n",
      "avg / total       0.91      0.92      0.90      4880\n",
      "\n",
      "search_and_rescue\n",
      "             precision    recall  f1-score   support\n",
      "\n",
      "          0       0.96      1.00      0.98      4656\n",
      "          1       0.79      0.08      0.15       224\n",
      "\n",
      "avg / total       0.95      0.96      0.94      4880\n",
      "\n",
      "security\n",
      "             precision    recall  f1-score   support\n",
      "\n",
      "          0       0.97      1.00      0.99      4739\n",
      "          1       0.50      0.01      0.01       141\n",
      "\n",
      "avg / total       0.96      0.97      0.96      4880\n",
      "\n",
      "military\n",
      "             precision    recall  f1-score   support\n",
      "\n",
      "          0       0.96      1.00      0.98      4597\n",
      "          1       0.81      0.31      0.45       283\n",
      "\n",
      "avg / total       0.95      0.96      0.95      4880\n",
      "\n",
      "water\n",
      "             precision    recall  f1-score   support\n",
      "\n",
      "          0       0.97      0.99      0.98      4363\n",
      "          1       0.88      0.71      0.78       517\n",
      "\n",
      "avg / total       0.96      0.96      0.96      4880\n",
      "\n",
      "food\n",
      "             precision    recall  f1-score   support\n",
      "\n",
      "          0       0.93      0.98      0.96      3932\n",
      "          1       0.90      0.70      0.79       948\n",
      "\n",
      "avg / total       0.93      0.93      0.92      4880\n",
      "\n",
      "shelter\n",
      "             precision    recall  f1-score   support\n",
      "\n",
      "          0       0.91      0.99      0.95      4137\n",
      "          1       0.86      0.48      0.61       743\n",
      "\n",
      "avg / total       0.90      0.91      0.90      4880\n",
      "\n",
      "clothing\n",
      "             precision    recall  f1-score   support\n",
      "\n",
      "          0       0.98      1.00      0.99      4743\n",
      "          1       0.86      0.31      0.46       137\n",
      "\n",
      "avg / total       0.98      0.98      0.97      4880\n",
      "\n",
      "money\n",
      "             precision    recall  f1-score   support\n",
      "\n",
      "          0       0.96      1.00      0.98      4684\n",
      "          1       0.75      0.08      0.14       196\n",
      "\n",
      "avg / total       0.95      0.96      0.95      4880\n",
      "\n",
      "missing_people\n",
      "             precision    recall  f1-score   support\n",
      "\n",
      "          0       0.98      1.00      0.99      4785\n",
      "          1       0.67      0.06      0.12        95\n",
      "\n",
      "avg / total       0.98      0.98      0.97      4880\n",
      "\n",
      "refugees\n",
      "             precision    recall  f1-score   support\n",
      "\n",
      "          0       0.95      1.00      0.97      4584\n",
      "          1       0.79      0.16      0.26       296\n",
      "\n",
      "avg / total       0.94      0.95      0.93      4880\n",
      "\n",
      "death\n",
      "             precision    recall  f1-score   support\n",
      "\n",
      "          0       0.94      0.99      0.97      4482\n",
      "          1       0.85      0.32      0.47       398\n",
      "\n",
      "avg / total       0.94      0.94      0.93      4880\n",
      "\n",
      "other_aid\n",
      "             precision    recall  f1-score   support\n",
      "\n",
      "          0       0.79      0.97      0.87      3759\n",
      "          1       0.58      0.16      0.25      1121\n",
      "\n",
      "avg / total       0.74      0.78      0.73      4880\n",
      "\n",
      "infrastructure_related\n",
      "             precision    recall  f1-score   support\n",
      "\n",
      "          0       0.88      0.99      0.94      4306\n",
      "          1       0.29      0.02      0.04       574\n",
      "\n",
      "avg / total       0.81      0.88      0.83      4880\n",
      "\n",
      "transport\n",
      "             precision    recall  f1-score   support\n",
      "\n",
      "          0       0.94      1.00      0.97      4505\n",
      "          1       0.82      0.22      0.35       375\n",
      "\n",
      "avg / total       0.93      0.94      0.92      4880\n",
      "\n",
      "buildings\n",
      "             precision    recall  f1-score   support\n",
      "\n",
      "          0       0.93      1.00      0.96      4433\n",
      "          1       0.81      0.21      0.34       447\n",
      "\n",
      "avg / total       0.92      0.92      0.90      4880\n",
      "\n",
      "electricity\n",
      "             precision    recall  f1-score   support\n",
      "\n",
      "          0       0.97      1.00      0.99      4715\n",
      "          1       0.80      0.22      0.34       165\n",
      "\n",
      "avg / total       0.97      0.97      0.96      4880\n",
      "\n",
      "tools\n",
      "             precision    recall  f1-score   support\n",
      "\n",
      "          0       0.99      1.00      0.99      4818\n",
      "          1       0.00      0.00      0.00        62\n",
      "\n",
      "avg / total       0.97      0.99      0.98      4880\n",
      "\n",
      "hospitals\n",
      "             precision    recall  f1-score   support\n",
      "\n",
      "          0       0.98      1.00      0.99      4789\n",
      "          1       0.33      0.01      0.02        91\n",
      "\n",
      "avg / total       0.97      0.98      0.97      4880\n",
      "\n",
      "shops\n",
      "             precision    recall  f1-score   support\n",
      "\n",
      "          0       0.99      1.00      1.00      4834\n",
      "          1       0.00      0.00      0.00        46\n",
      "\n",
      "avg / total       0.98      0.99      0.99      4880\n",
      "\n",
      "aid_centers\n",
      "             precision    recall  f1-score   support\n",
      "\n",
      "          0       0.98      1.00      0.99      4781\n",
      "          1       0.00      0.00      0.00        99\n",
      "\n",
      "avg / total       0.96      0.98      0.97      4880\n",
      "\n",
      "other_infrastructure\n",
      "             precision    recall  f1-score   support\n",
      "\n",
      "          0       0.92      1.00      0.96      4483\n",
      "          1       0.15      0.01      0.01       397\n",
      "\n",
      "avg / total       0.86      0.92      0.88      4880\n",
      "\n",
      "weather_related\n",
      "             precision    recall  f1-score   support\n",
      "\n",
      "          0       0.82      0.92      0.87      2504\n",
      "          1       0.91      0.79      0.85      2376\n",
      "\n",
      "avg / total       0.86      0.86      0.86      4880\n",
      "\n",
      "floods\n",
      "             precision    recall  f1-score   support\n",
      "\n",
      "          0       0.93      1.00      0.96      4218\n",
      "          1       0.94      0.51      0.66       662\n",
      "\n",
      "avg / total       0.93      0.93      0.92      4880\n",
      "\n",
      "storm\n",
      "             precision    recall  f1-score   support\n",
      "\n",
      "          0       0.93      0.98      0.95      4072\n",
      "          1       0.86      0.63      0.73       808\n",
      "\n",
      "avg / total       0.92      0.92      0.92      4880\n",
      "\n",
      "fire\n",
      "             precision    recall  f1-score   support\n",
      "\n",
      "          0       0.98      1.00      0.99      4790\n",
      "          1       1.00      0.06      0.11        90\n",
      "\n",
      "avg / total       0.98      0.98      0.97      4880\n",
      "\n",
      "earthquake\n",
      "             precision    recall  f1-score   support\n",
      "\n",
      "          0       0.96      0.99      0.98      4087\n",
      "          1       0.93      0.81      0.87       793\n",
      "\n",
      "avg / total       0.96      0.96      0.96      4880\n",
      "\n",
      "cold\n",
      "             precision    recall  f1-score   support\n",
      "\n",
      "          0       0.97      1.00      0.98      4713\n",
      "          1       0.76      0.19      0.30       167\n",
      "\n",
      "avg / total       0.96      0.97      0.96      4880\n",
      "\n",
      "other_weather\n",
      "             precision    recall  f1-score   support\n",
      "\n",
      "          0       0.92      0.99      0.95      4419\n",
      "          1       0.65      0.12      0.20       461\n",
      "\n",
      "avg / total       0.89      0.91      0.88      4880\n",
      "\n",
      "direct_report\n",
      "             precision    recall  f1-score   support\n",
      "\n",
      "          0       0.83      0.90      0.86      3217\n",
      "          1       0.77      0.64      0.70      1663\n",
      "\n",
      "avg / total       0.81      0.81      0.81      4880\n",
      "\n"
     ]
    }
   ],
   "source": [
    "target_names = df.columns[4:]\n",
    "display_results(y_test, y_pred, target_names)"
   ]
  },
  {
   "cell_type": "code",
   "execution_count": 21,
   "metadata": {},
   "outputs": [
    {
     "name": "stdout",
     "output_type": "stream",
     "text": [
      "Pipeline(memory=None,\n",
      "     steps=[('vect', CountVectorizer(analyzer='word', binary=False, decode_error='strict',\n",
      "        dtype=<class 'numpy.int64'>, encoding='utf-8', input='content',\n",
      "        lowercase=True, max_df=1.0, max_features=None, min_df=1,\n",
      "        ngram_range=(1, 1), preprocessor=None, stop_words=None,\n",
      "        strip...oob_score=False, random_state=None, verbose=0,\n",
      "            warm_start=False),\n",
      "           n_jobs=1))])\n"
     ]
    }
   ],
   "source": [
    "print(pipeline)"
   ]
  },
  {
   "cell_type": "code",
   "execution_count": 22,
   "metadata": {},
   "outputs": [
    {
     "data": {
      "text/plain": [
       "'19:57:35'"
      ]
     },
     "execution_count": 22,
     "metadata": {},
     "output_type": "execute_result"
    }
   ],
   "source": [
    "what_time()"
   ]
  },
  {
   "cell_type": "markdown",
   "metadata": {},
   "source": [
    "### 6. Improve your model\n",
    "Use grid search to find better parameters. "
   ]
  },
  {
   "cell_type": "code",
   "execution_count": 23,
   "metadata": {},
   "outputs": [],
   "source": [
    "   parameters_0 = {\n",
    "        'vect__ngram_range': ((1, 1), (1, 2)),\n",
    "        'vect__max_df': (0.5, 0.75, 1.0),\n",
    "        'vect__min_df': (0.1, 0.05),\n",
    "        'vect__max_features': (None, 100, 500, 1000, 5000),\n",
    "        \n",
    "        \n",
    "        'clf__estimator__n_estimators': [50, 100, 200],\n",
    "        'clf__estimator__max_depth': [4, 8, 16],\n",
    "        'clf__estimator__min_samples_leaf': [2, 4, 8],\n",
    "        'clf__estimator__min_samples_split': [2, 4, 8],\n",
    "    \n",
    "    }"
   ]
  },
  {
   "cell_type": "code",
   "execution_count": 25,
   "metadata": {},
   "outputs": [],
   "source": [
    "parameters_1 = {\n",
    "    #'clf__estimator__n_estimators': [100, 200],\n",
    "    'clf__estimator__min_samples_split': [2, 3, 4],\n",
    "\n",
    "    #'clf__estimator__max_depth': [4, 8, 16],\n",
    "    #'clf__estimator__min_samples_leaf': [2, 4, 8],\n",
    "\n",
    "}"
   ]
  },
  {
   "cell_type": "code",
   "execution_count": 26,
   "metadata": {},
   "outputs": [],
   "source": [
    "def build_model():\n",
    "    \"\"\"\n",
    "    Returns a model\n",
    "    \"\"\"\n",
    "    \n",
    "    # Build a machine learning pipeline\n",
    "    \n",
    "    lm  = RandomForestClassifier()\n",
    "    \n",
    "    pipeline = Pipeline(\n",
    "    [(\"vect\", CountVectorizer(tokenizer=tokenize)),\n",
    "    ('tfidf', TfidfTransformer()),\n",
    "    (\"clf\", MultiOutputClassifier(lm)),\n",
    "    ])\n",
    "    \n",
    "     # specify parameters for grid search\n",
    "#     parameters = {\n",
    "#     'clf__estimator__min_samples_split': [2, 3, 4]\n",
    "#     }\n",
    "    \n",
    "    parameters = {\n",
    "        #'clf__estimator__n_estimators': [100, 200],\n",
    "        'clf__estimator__min_samples_split': [2, 3, 4],\n",
    "\n",
    "        #'clf__estimator__max_depth': [4, 8, 16],\n",
    "        #'clf__estimator__min_samples_leaf': [2, 4, 8],\n",
    "    }\n",
    "    \n",
    "    # create grid search object\n",
    "    #par = StratifiedShuffleSplit(n_splits=5, test_size=0.2, random_state=42)\n",
    "    cv = GridSearchCV(pipeline, param_grid=parameters)\n",
    "    \n",
    "    return cv\n"
   ]
  },
  {
   "cell_type": "markdown",
   "metadata": {},
   "source": [
    "### 7. Test your model\n",
    "Show the accuracy, precision, and recall of the tuned model.  \n",
    "\n",
    "Since this project focuses on code quality, process, and  pipelines, there is no minimum performance metric needed to pass. However, make sure to fine tune your models for accuracy, precision and recall to make your project stand out - especially for your portfolio!"
   ]
  },
  {
   "cell_type": "code",
   "execution_count": 27,
   "metadata": {},
   "outputs": [
    {
     "data": {
      "text/plain": [
       "'19:59:02'"
      ]
     },
     "execution_count": 27,
     "metadata": {},
     "output_type": "execute_result"
    }
   ],
   "source": [
    "what_time()"
   ]
  },
  {
   "cell_type": "code",
   "execution_count": 28,
   "metadata": {},
   "outputs": [],
   "source": [
    "model =  build_model()"
   ]
  },
  {
   "cell_type": "code",
   "execution_count": 29,
   "metadata": {
    "scrolled": true
   },
   "outputs": [
    {
     "data": {
      "text/plain": [
       "GridSearchCV(cv=None, error_score='raise',\n",
       "       estimator=Pipeline(memory=None,\n",
       "     steps=[('vect', CountVectorizer(analyzer='word', binary=False, decode_error='strict',\n",
       "        dtype=<class 'numpy.int64'>, encoding='utf-8', input='content',\n",
       "        lowercase=True, max_df=1.0, max_features=None, min_df=1,\n",
       "        ngram_range=(1, 1), preprocessor=None, stop_words=None,\n",
       "        strip...oob_score=False, random_state=None, verbose=0,\n",
       "            warm_start=False),\n",
       "           n_jobs=1))]),\n",
       "       fit_params=None, iid=True, n_jobs=1,\n",
       "       param_grid={'clf__estimator__min_samples_split': [2, 3, 4]},\n",
       "       pre_dispatch='2*n_jobs', refit=True, return_train_score='warn',\n",
       "       scoring=None, verbose=0)"
      ]
     },
     "execution_count": 29,
     "metadata": {},
     "output_type": "execute_result"
    }
   ],
   "source": [
    "model"
   ]
  },
  {
   "cell_type": "code",
   "execution_count": 30,
   "metadata": {
    "scrolled": true
   },
   "outputs": [
    {
     "data": {
      "text/plain": [
       "dict_keys(['memory', 'steps', 'vect', 'tfidf', 'clf', 'vect__analyzer', 'vect__binary', 'vect__decode_error', 'vect__dtype', 'vect__encoding', 'vect__input', 'vect__lowercase', 'vect__max_df', 'vect__max_features', 'vect__min_df', 'vect__ngram_range', 'vect__preprocessor', 'vect__stop_words', 'vect__strip_accents', 'vect__token_pattern', 'vect__tokenizer', 'vect__vocabulary', 'tfidf__norm', 'tfidf__smooth_idf', 'tfidf__sublinear_tf', 'tfidf__use_idf', 'clf__estimator__bootstrap', 'clf__estimator__class_weight', 'clf__estimator__criterion', 'clf__estimator__max_depth', 'clf__estimator__max_features', 'clf__estimator__max_leaf_nodes', 'clf__estimator__min_impurity_decrease', 'clf__estimator__min_impurity_split', 'clf__estimator__min_samples_leaf', 'clf__estimator__min_samples_split', 'clf__estimator__min_weight_fraction_leaf', 'clf__estimator__n_estimators', 'clf__estimator__n_jobs', 'clf__estimator__oob_score', 'clf__estimator__random_state', 'clf__estimator__verbose', 'clf__estimator__warm_start', 'clf__estimator', 'clf__n_jobs'])"
      ]
     },
     "execution_count": 30,
     "metadata": {},
     "output_type": "execute_result"
    }
   ],
   "source": [
    "model.estimator.get_params().keys()"
   ]
  },
  {
   "cell_type": "code",
   "execution_count": 31,
   "metadata": {},
   "outputs": [
    {
     "data": {
      "text/plain": [
       "'19:59:19'"
      ]
     },
     "execution_count": 31,
     "metadata": {},
     "output_type": "execute_result"
    }
   ],
   "source": [
    "what_time() "
   ]
  },
  {
   "cell_type": "code",
   "execution_count": 32,
   "metadata": {},
   "outputs": [
    {
     "data": {
      "text/plain": [
       "'20:16:27'"
      ]
     },
     "execution_count": 32,
     "metadata": {},
     "output_type": "execute_result"
    }
   ],
   "source": [
    "# Keeping Your Session Active\n",
    "from workspace_utils import active_session\n",
    "with active_session():\n",
    "    model.fit(X_train, y_train)\n",
    "\n",
    "what_time()"
   ]
  },
  {
   "cell_type": "code",
   "execution_count": 33,
   "metadata": {},
   "outputs": [],
   "source": [
    "with active_session():\n",
    "    y_pred = model.predict(X_test)"
   ]
  },
  {
   "cell_type": "code",
   "execution_count": 34,
   "metadata": {
    "scrolled": true
   },
   "outputs": [
    {
     "name": "stdout",
     "output_type": "stream",
     "text": [
      "request\n",
      "             precision    recall  f1-score   support\n",
      "\n",
      "          0       0.89      0.93      0.91      3394\n",
      "          1       0.82      0.74      0.78      1486\n",
      "\n",
      "avg / total       0.87      0.87      0.87      4880\n",
      "\n",
      "offer\n",
      "             precision    recall  f1-score   support\n",
      "\n",
      "          0       0.99      1.00      1.00      4838\n",
      "          1       0.00      0.00      0.00        42\n",
      "\n",
      "avg / total       0.98      0.99      0.99      4880\n",
      "\n",
      "aid_related\n",
      "             precision    recall  f1-score   support\n",
      "\n",
      "          0       0.68      0.52      0.59      1327\n",
      "          1       0.83      0.91      0.87      3553\n",
      "\n",
      "avg / total       0.79      0.80      0.79      4880\n",
      "\n",
      "medical_help\n",
      "             precision    recall  f1-score   support\n",
      "\n",
      "          0       0.91      0.97      0.94      4184\n",
      "          1       0.69      0.44      0.54       696\n",
      "\n",
      "avg / total       0.88      0.89      0.88      4880\n",
      "\n",
      "medical_products\n",
      "             precision    recall  f1-score   support\n",
      "\n",
      "          0       0.93      1.00      0.96      4434\n",
      "          1       0.84      0.23      0.36       446\n",
      "\n",
      "avg / total       0.92      0.93      0.91      4880\n",
      "\n",
      "search_and_rescue\n",
      "             precision    recall  f1-score   support\n",
      "\n",
      "          0       0.96      1.00      0.98      4656\n",
      "          1       0.63      0.17      0.26       224\n",
      "\n",
      "avg / total       0.95      0.96      0.95      4880\n",
      "\n",
      "security\n",
      "             precision    recall  f1-score   support\n",
      "\n",
      "          0       0.97      1.00      0.99      4739\n",
      "          1       0.20      0.01      0.01       141\n",
      "\n",
      "avg / total       0.95      0.97      0.96      4880\n",
      "\n",
      "military\n",
      "             precision    recall  f1-score   support\n",
      "\n",
      "          0       0.96      1.00      0.98      4597\n",
      "          1       0.86      0.41      0.55       283\n",
      "\n",
      "avg / total       0.96      0.96      0.96      4880\n",
      "\n",
      "water\n",
      "             precision    recall  f1-score   support\n",
      "\n",
      "          0       0.96      0.99      0.97      4363\n",
      "          1       0.89      0.61      0.73       517\n",
      "\n",
      "avg / total       0.95      0.95      0.95      4880\n",
      "\n",
      "food\n",
      "             precision    recall  f1-score   support\n",
      "\n",
      "          0       0.95      0.98      0.97      3932\n",
      "          1       0.91      0.81      0.86       948\n",
      "\n",
      "avg / total       0.95      0.95      0.95      4880\n",
      "\n",
      "shelter\n",
      "             precision    recall  f1-score   support\n",
      "\n",
      "          0       0.92      0.99      0.95      4137\n",
      "          1       0.87      0.52      0.65       743\n",
      "\n",
      "avg / total       0.91      0.92      0.91      4880\n",
      "\n",
      "clothing\n",
      "             precision    recall  f1-score   support\n",
      "\n",
      "          0       0.98      1.00      0.99      4743\n",
      "          1       0.88      0.16      0.27       137\n",
      "\n",
      "avg / total       0.97      0.98      0.97      4880\n",
      "\n",
      "money\n",
      "             precision    recall  f1-score   support\n",
      "\n",
      "          0       0.97      1.00      0.98      4684\n",
      "          1       0.79      0.21      0.34       196\n",
      "\n",
      "avg / total       0.96      0.97      0.96      4880\n",
      "\n",
      "missing_people\n",
      "             precision    recall  f1-score   support\n",
      "\n",
      "          0       0.98      1.00      0.99      4785\n",
      "          1       0.00      0.00      0.00        95\n",
      "\n",
      "avg / total       0.96      0.98      0.97      4880\n",
      "\n",
      "refugees\n",
      "             precision    recall  f1-score   support\n",
      "\n",
      "          0       0.95      1.00      0.97      4584\n",
      "          1       0.76      0.22      0.34       296\n",
      "\n",
      "avg / total       0.94      0.95      0.93      4880\n",
      "\n",
      "death\n",
      "             precision    recall  f1-score   support\n",
      "\n",
      "          0       0.95      0.99      0.97      4482\n",
      "          1       0.86      0.36      0.51       398\n",
      "\n",
      "avg / total       0.94      0.94      0.93      4880\n",
      "\n",
      "other_aid\n",
      "             precision    recall  f1-score   support\n",
      "\n",
      "          0       0.80      0.95      0.87      3759\n",
      "          1       0.56      0.21      0.30      1121\n",
      "\n",
      "avg / total       0.75      0.78      0.74      4880\n",
      "\n",
      "infrastructure_related\n",
      "             precision    recall  f1-score   support\n",
      "\n",
      "          0       0.89      0.99      0.94      4306\n",
      "          1       0.48      0.03      0.06       574\n",
      "\n",
      "avg / total       0.84      0.88      0.83      4880\n",
      "\n",
      "transport\n",
      "             precision    recall  f1-score   support\n",
      "\n",
      "          0       0.94      1.00      0.97      4505\n",
      "          1       0.85      0.22      0.35       375\n",
      "\n",
      "avg / total       0.93      0.94      0.92      4880\n",
      "\n",
      "buildings\n",
      "             precision    recall  f1-score   support\n",
      "\n",
      "          0       0.93      0.99      0.96      4433\n",
      "          1       0.74      0.26      0.38       447\n",
      "\n",
      "avg / total       0.91      0.92      0.91      4880\n",
      "\n",
      "electricity\n",
      "             precision    recall  f1-score   support\n",
      "\n",
      "          0       0.97      1.00      0.98      4715\n",
      "          1       0.69      0.15      0.25       165\n",
      "\n",
      "avg / total       0.96      0.97      0.96      4880\n",
      "\n",
      "tools\n",
      "             precision    recall  f1-score   support\n",
      "\n",
      "          0       0.99      1.00      0.99      4818\n",
      "          1       0.00      0.00      0.00        62\n",
      "\n",
      "avg / total       0.97      0.99      0.98      4880\n",
      "\n",
      "hospitals\n",
      "             precision    recall  f1-score   support\n",
      "\n",
      "          0       0.98      1.00      0.99      4789\n",
      "          1       0.67      0.02      0.04        91\n",
      "\n",
      "avg / total       0.98      0.98      0.97      4880\n",
      "\n",
      "shops\n",
      "             precision    recall  f1-score   support\n",
      "\n",
      "          0       0.99      1.00      1.00      4834\n",
      "          1       0.00      0.00      0.00        46\n",
      "\n",
      "avg / total       0.98      0.99      0.99      4880\n",
      "\n",
      "aid_centers\n",
      "             precision    recall  f1-score   support\n",
      "\n",
      "          0       0.98      1.00      0.99      4781\n",
      "          1       0.00      0.00      0.00        99\n",
      "\n",
      "avg / total       0.96      0.98      0.97      4880\n",
      "\n",
      "other_infrastructure\n",
      "             precision    recall  f1-score   support\n",
      "\n",
      "          0       0.92      1.00      0.96      4483\n",
      "          1       0.45      0.04      0.07       397\n",
      "\n",
      "avg / total       0.88      0.92      0.88      4880\n",
      "\n",
      "weather_related\n",
      "             precision    recall  f1-score   support\n",
      "\n",
      "          0       0.84      0.90      0.87      2504\n",
      "          1       0.89      0.81      0.85      2376\n",
      "\n",
      "avg / total       0.86      0.86      0.86      4880\n",
      "\n",
      "floods\n",
      "             precision    recall  f1-score   support\n",
      "\n",
      "          0       0.93      0.99      0.96      4218\n",
      "          1       0.90      0.55      0.68       662\n",
      "\n",
      "avg / total       0.93      0.93      0.92      4880\n",
      "\n",
      "storm\n",
      "             precision    recall  f1-score   support\n",
      "\n",
      "          0       0.94      0.98      0.96      4072\n",
      "          1       0.86      0.71      0.78       808\n",
      "\n",
      "avg / total       0.93      0.93      0.93      4880\n",
      "\n",
      "fire\n",
      "             precision    recall  f1-score   support\n",
      "\n",
      "          0       0.98      1.00      0.99      4790\n",
      "          1       1.00      0.09      0.16        90\n",
      "\n",
      "avg / total       0.98      0.98      0.98      4880\n",
      "\n",
      "earthquake\n",
      "             precision    recall  f1-score   support\n",
      "\n",
      "          0       0.97      0.99      0.98      4087\n",
      "          1       0.93      0.83      0.88       793\n",
      "\n",
      "avg / total       0.96      0.96      0.96      4880\n",
      "\n",
      "cold\n",
      "             precision    recall  f1-score   support\n",
      "\n",
      "          0       0.98      1.00      0.99      4713\n",
      "          1       0.77      0.29      0.42       167\n",
      "\n",
      "avg / total       0.97      0.97      0.97      4880\n",
      "\n",
      "other_weather\n",
      "             precision    recall  f1-score   support\n",
      "\n",
      "          0       0.91      0.99      0.95      4419\n",
      "          1       0.59      0.10      0.17       461\n",
      "\n",
      "avg / total       0.88      0.91      0.88      4880\n",
      "\n",
      "direct_report\n",
      "             precision    recall  f1-score   support\n",
      "\n",
      "          0       0.84      0.88      0.86      3217\n",
      "          1       0.75      0.68      0.71      1663\n",
      "\n",
      "avg / total       0.81      0.81      0.81      4880\n",
      "\n"
     ]
    }
   ],
   "source": [
    "display_results(y_test, y_pred, target_names)"
   ]
  },
  {
   "cell_type": "code",
   "execution_count": 35,
   "metadata": {},
   "outputs": [
    {
     "data": {
      "text/plain": [
       "'20:16:52'"
      ]
     },
     "execution_count": 35,
     "metadata": {},
     "output_type": "execute_result"
    }
   ],
   "source": [
    "what_time()"
   ]
  },
  {
   "cell_type": "markdown",
   "metadata": {},
   "source": [
    "### 8. Try improving your model further. Here are a few ideas:\n",
    "* try other machine learning algorithms\n",
    "* add other features besides the TF-IDF"
   ]
  },
  {
   "cell_type": "code",
   "execution_count": 36,
   "metadata": {},
   "outputs": [],
   "source": [
    "# https://github.com/gilmar/udacity-live-coding-ensembles/blob/master/udacity-live-coding-ensembles.ipynb\n",
    "import warnings\n",
    "def evaluate_classifiers(models, X_train, y_train,  X_test, y_test, target_names):\n",
    "    results = []\n",
    "    for name in models.keys():\n",
    "        try:\n",
    "            lm = models[name]\n",
    "            \n",
    "            print(lm)\n",
    "\n",
    "            with warnings.catch_warnings():\n",
    "                warnings.simplefilter(\"ignore\")\n",
    "                fxn()\n",
    "\n",
    "                model = Pipeline(\n",
    "                    [(\"vect\", CountVectorizer(tokenizer=tokenize)),\n",
    "                     ('tfidf', TfidfTransformer()),\n",
    "                     (\"clf\", MultiOutputClassifier(lm)),])\n",
    "\n",
    "                model.fit(X_train, y_train)\n",
    "                y_pred = model.predict(X_test)\n",
    "\n",
    "\n",
    "                #acc = accuracy_score(y_test, y_pred)\n",
    "\n",
    "                #cm = confusion_matrix(y_test, y_pred)\n",
    "                \n",
    "                for i in range(len(target_names)):\n",
    "                    print(\"{} \\n {}\".format(target_names[i], classification_report(y_test[:, i], y_pred[:, i])))\n",
    "                    report = \"{} \\n {}\".format(target_names[i], classification_report(y_test[:, i], y_pred[:, i]))\n",
    "\n",
    "                #report = classification_report(y_test, y_pred)\n",
    "                print(report)\n",
    "\n",
    "\n",
    "                results.append((name, report))\n",
    "        except: \n",
    "            print(\"erro {}\".format(models[name]))\n",
    "            print(sys.exc_info())\n",
    "            pass\n",
    "    return results"
   ]
  },
  {
   "cell_type": "code",
   "execution_count": 37,
   "metadata": {},
   "outputs": [],
   "source": [
    "# def report_classifiers_results(model_results, metrics=['acc', 'cm', 'report']):\n",
    "#     for result in model_results:\n",
    "#         name, report = result\n",
    "#         print(\"Model: %s\" % name)\n",
    "#         #if metrics.contains('acc'): print(\"Accuracy: %f\" % acc) \n",
    "#         #if metrics.contains('cm'): print(\"Confusion Matrix: \\n %s\" % cm)\n",
    "#         print(report)\n",
    "#         print()"
   ]
  },
  {
   "cell_type": "code",
   "execution_count": 38,
   "metadata": {},
   "outputs": [],
   "source": [
    "models = {}\n",
    "models['LR'] = LogisticRegression()\n",
    "models['LDA'] = LinearDiscriminantAnalysis()\n",
    "models['KNN'] = KNeighborsClassifier()\n",
    "models['CART'] = DecisionTreeClassifier(random_state=13)\n",
    "models['NB'] = GaussianNB()\n",
    "models['SVM'] = SVC()\n",
    "# ===\n",
    "models[\"RF\"] = RandomForestClassifier()\n",
    "#models[\"DUM\"] = DummyClassifier()\n",
    "#models[\"BAG\"] = BaggingClassifier()\n",
    "models[\"ADB\"] = AdaBoostClassifier()\n",
    "#models[\"VOT\"] = VotingClassifier()"
   ]
  },
  {
   "cell_type": "code",
   "execution_count": 39,
   "metadata": {},
   "outputs": [
    {
     "data": {
      "text/plain": [
       "'20:23:28'"
      ]
     },
     "execution_count": 39,
     "metadata": {},
     "output_type": "execute_result"
    }
   ],
   "source": [
    "what_time()"
   ]
  },
  {
   "cell_type": "code",
   "execution_count": null,
   "metadata": {
    "scrolled": true
   },
   "outputs": [
    {
     "name": "stdout",
     "output_type": "stream",
     "text": [
      "LogisticRegression(C=1.0, class_weight=None, dual=False, fit_intercept=True,\n",
      "          intercept_scaling=1, max_iter=100, multi_class='ovr', n_jobs=1,\n",
      "          penalty='l2', random_state=None, solver='liblinear', tol=0.0001,\n",
      "          verbose=0, warm_start=False)\n"
     ]
    }
   ],
   "source": [
    "with active_session():\n",
    "    classifiers_results = evaluate_classifiers(models, X_train, y_train, X_test, y_test, target_names)"
   ]
  },
  {
   "cell_type": "code",
   "execution_count": null,
   "metadata": {},
   "outputs": [],
   "source": [
    "what_time()"
   ]
  },
  {
   "cell_type": "code",
   "execution_count": null,
   "metadata": {},
   "outputs": [],
   "source": [
    "def build_tunning_model():\n",
    "    \"\"\"\n",
    "    Returns a model\n",
    "    \"\"\"\n",
    "    \n",
    "    # Build a machine learning pipeline\n",
    "    \n",
    "    lm  = LogisticRegression()\n",
    "    \n",
    "    pipeline = Pipeline(\n",
    "    [(\"vect\", CountVectorizer(tokenizer=tokenize)),\n",
    "    ('tfidf', TfidfTransformer()),\n",
    "    (\"clf\", MultiOutputClassifier(lm)),\n",
    "    ])\n",
    "    \n",
    "     # specify parameters for grid search\n",
    "    parameters = {\n",
    "    'clf__estimator__C': [1, 10, 100, 1000],\n",
    "    'clf__estimator__multi_class' : [\"ovr\", \"multinomial\", \"auto\"]\n",
    "    }\n",
    "    \n",
    "    # create grid search object\n",
    "    #par = StratifiedShuffleSplit(n_splits=5, test_size=0.2, random_state=42)\n",
    "    cv = GridSearchCV(pipeline, param_grid=parameters)\n",
    "    \n",
    "    return cv"
   ]
  },
  {
   "cell_type": "code",
   "execution_count": null,
   "metadata": {},
   "outputs": [],
   "source": [
    "model_2 = build_tunning_model()"
   ]
  },
  {
   "cell_type": "code",
   "execution_count": null,
   "metadata": {},
   "outputs": [],
   "source": [
    "model_2.estimator.get_params().keys()"
   ]
  },
  {
   "cell_type": "code",
   "execution_count": null,
   "metadata": {},
   "outputs": [],
   "source": [
    "LogisticRegression(C=1.0, class_weight=None, dual=False, fit_intercept=True,\n",
    "          intercept_scaling=1, max_iter=100, multi_class='ovr', n_jobs=1,\n",
    "          penalty='l2', random_state=None, solver='liblinear', tol=0.0001,\n",
    "          verbose=0, warm_start=False)"
   ]
  },
  {
   "cell_type": "code",
   "execution_count": null,
   "metadata": {},
   "outputs": [],
   "source": [
    "parameters = {\n",
    "    'clf__estimator__C': [1, 10, 100, 1000],\n",
    "    'clf__estimator__multi_class' : [‘ovr’, ‘multinomial’, ‘auto’]\n",
    "}"
   ]
  },
  {
   "cell_type": "code",
   "execution_count": null,
   "metadata": {},
   "outputs": [],
   "source": [
    "parameters = {\n",
    "    'clf__estimator__min_samples_split': [2, 3, 4]\n",
    "    }"
   ]
  },
  {
   "cell_type": "code",
   "execution_count": null,
   "metadata": {
    "scrolled": true
   },
   "outputs": [],
   "source": [
    "# Keeping Your Session Active\n",
    "from workspace_utils import active_session\n",
    "with active_session():\n",
    "    model_2.fit(X_train, y_train)\n",
    "\n",
    "what_time()"
   ]
  },
  {
   "cell_type": "code",
   "execution_count": null,
   "metadata": {},
   "outputs": [],
   "source": [
    "with active_session():\n",
    "    y_pred = model_2.predict(X_test)"
   ]
  },
  {
   "cell_type": "code",
   "execution_count": null,
   "metadata": {},
   "outputs": [],
   "source": [
    "\n",
    "what_time()"
   ]
  },
  {
   "cell_type": "markdown",
   "metadata": {},
   "source": [
    "### 9. Export your model as a pickle file"
   ]
  },
  {
   "cell_type": "code",
   "execution_count": null,
   "metadata": {},
   "outputs": [],
   "source": [
    "# https://machinelearningmastery.com/save-load-machine-learning-models-python-scikit-learn/"
   ]
  },
  {
   "cell_type": "code",
   "execution_count": null,
   "metadata": {},
   "outputs": [],
   "source": [
    "# datetime object containing current date and time\n",
    "# https://www.programiz.com/python-programming/datetime/current-datetime\n",
    "now = datetime.now()\n",
    "dt_string = now.strftime(\"%d_%m_%Y_%H_%M_%S\")\n",
    "\n",
    "# save the model to disk\n",
    "filename = f'model_{dt_string}.sav'\n",
    "pickle.dump(pipeline, open(filename, 'wb'))"
   ]
  },
  {
   "cell_type": "code",
   "execution_count": null,
   "metadata": {},
   "outputs": [],
   "source": [
    "def export_model(model):\n",
    "    \"\"\"\n",
    "    Save your model as a pikle file in current local directory.\n",
    "    \n",
    "    The output file looks like \"model_10_09_2019_02_21_04.sav\". \n",
    "    \n",
    "    Where the numbers indicate the date and the time that file was create - %d_%m_%Y_%H_%M_%S\".\n",
    "    \"\"\"\n",
    "    \n",
    "    now = datetime.now()\n",
    "    dt_string = now.strftime(\"%d_%m_%Y_%H_%M_%S\")\n",
    "\n",
    "    # save the model to disk\n",
    "    filename = f'model_{dt_string}.sav'\n",
    "    pickle.dump(model, open(filename, 'wb'))\n",
    "    "
   ]
  },
  {
   "cell_type": "code",
   "execution_count": null,
   "metadata": {},
   "outputs": [],
   "source": [
    "export_model(model)"
   ]
  },
  {
   "cell_type": "code",
   "execution_count": null,
   "metadata": {},
   "outputs": [],
   "source": [
    "# load the model from disk\n",
    "filename = \"model_10_09_2019_02_21_04.sav\"\n",
    "\n",
    "loaded_model = pickle.load(open(filename, 'rb'))\n",
    "result = loaded_model.score(X_test, y_test)\n",
    "\n",
    "print(result)"
   ]
  },
  {
   "cell_type": "code",
   "execution_count": null,
   "metadata": {},
   "outputs": [],
   "source": [
    "def load_model(file_model):\n",
    "    \"\"\"\n",
    "    load the model from disk:\n",
    "    \n",
    "    INPUT:\n",
    "        A pickle file model name.\n",
    "    \n",
    "    OUTPUT:\n",
    "        A ML model\n",
    "    \"\"\" \n",
    "    loaded_model = pickle.load(open(filename, 'rb'))\n",
    "    return  loaded_model "
   ]
  },
  {
   "cell_type": "markdown",
   "metadata": {},
   "source": [
    "### 10. Use this notebook to complete `train.py`\n",
    "Use the template file attached in the Resources folder to write a script that runs the steps above to create a database and export a model based on a new dataset specified by the user."
   ]
  },
  {
   "cell_type": "code",
   "execution_count": null,
   "metadata": {},
   "outputs": [],
   "source": []
  },
  {
   "cell_type": "code",
   "execution_count": null,
   "metadata": {},
   "outputs": [],
   "source": []
  }
 ],
 "metadata": {
  "kernelspec": {
   "display_name": "Python 3",
   "language": "python",
   "name": "python3"
  },
  "language_info": {
   "codemirror_mode": {
    "name": "ipython",
    "version": 3
   },
   "file_extension": ".py",
   "mimetype": "text/x-python",
   "name": "python",
   "nbconvert_exporter": "python",
   "pygments_lexer": "ipython3",
   "version": "3.6.3"
  }
 },
 "nbformat": 4,
 "nbformat_minor": 2
}
